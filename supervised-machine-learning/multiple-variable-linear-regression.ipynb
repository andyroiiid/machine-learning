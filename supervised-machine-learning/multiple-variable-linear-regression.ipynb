{
 "cells": [
  {
   "cell_type": "code",
   "execution_count": 1,
   "id": "initial_id",
   "metadata": {
    "collapsed": true,
    "ExecuteTime": {
     "end_time": "2023-12-24T00:51:20.212032700Z",
     "start_time": "2023-12-24T00:51:20.176308200Z"
    }
   },
   "outputs": [],
   "source": [
    "import numpy as np"
   ]
  },
  {
   "cell_type": "code",
   "execution_count": 2,
   "outputs": [],
   "source": [
    "x_train = np.array([[2104, 5, 1, 45], [1416, 3, 2, 40], [852, 2, 1, 35]])\n",
    "y_train = np.array([460, 232, 178])"
   ],
   "metadata": {
    "collapsed": false,
    "ExecuteTime": {
     "end_time": "2023-12-24T00:51:20.218714300Z",
     "start_time": "2023-12-24T00:51:20.212032700Z"
    }
   },
   "id": "f5361257a4981da1"
  },
  {
   "cell_type": "code",
   "execution_count": 3,
   "outputs": [],
   "source": [
    "def model(x, w, b):\n",
    "    return np.dot(x, w) + b"
   ],
   "metadata": {
    "collapsed": false,
    "ExecuteTime": {
     "end_time": "2023-12-24T00:51:20.269703900Z",
     "start_time": "2023-12-24T00:51:20.216713300Z"
    }
   },
   "id": "6e706610779dc337"
  },
  {
   "cell_type": "code",
   "execution_count": 4,
   "outputs": [],
   "source": [
    "def cost(x, y, w, b):\n",
    "    m = x.shape[0]\n",
    "    f = model(x, w, b)\n",
    "    cost = np.sum((f - y) ** 2) / (2 * m)\n",
    "    return cost"
   ],
   "metadata": {
    "collapsed": false,
    "ExecuteTime": {
     "end_time": "2023-12-24T00:51:20.269703900Z",
     "start_time": "2023-12-24T00:51:20.224243700Z"
    }
   },
   "id": "a5233045377fc032"
  },
  {
   "cell_type": "code",
   "execution_count": 5,
   "outputs": [
    {
     "name": "stdout",
     "output_type": "stream",
     "text": [
      "1.5578904045996674e-12\n"
     ]
    }
   ],
   "source": [
    "print(cost(x_train, y_train, np.array([0.39133535, 18.75376741, -53.36032453, -26.42131618]), 785.1811367994083))"
   ],
   "metadata": {
    "collapsed": false,
    "ExecuteTime": {
     "end_time": "2023-12-24T00:51:20.269703900Z",
     "start_time": "2023-12-24T00:51:20.269703900Z"
    }
   },
   "id": "55e4ba05c47f686c"
  },
  {
   "cell_type": "code",
   "execution_count": 6,
   "outputs": [],
   "source": [
    "def gradient(x, y, w, b):\n",
    "    m, n = x.shape\n",
    "    f = model(x, w, b)\n",
    "    dj_dw = np.sum((f - y)[:, np.newaxis] * x, axis=0) / m\n",
    "    dj_db = np.sum(f - y) / m\n",
    "    return dj_dw, dj_db"
   ],
   "metadata": {
    "collapsed": false,
    "ExecuteTime": {
     "end_time": "2023-12-24T00:51:20.270702700Z",
     "start_time": "2023-12-24T00:51:20.269703900Z"
    }
   },
   "id": "e3e7036f2e8b2fd"
  },
  {
   "cell_type": "code",
   "execution_count": 7,
   "outputs": [],
   "source": [
    "def gradient_descent(x, y, w, b, alpha, iterations):\n",
    "    for i in range(iterations):\n",
    "        if i % 100 == 0:\n",
    "            print(f\"iteration #{i}, w = {w}, b = {b}, cost = {cost(x, y, w, b)}, gradient = {gradient(x, y, w, b)}\")\n",
    "        dj_dw, dj_db = gradient(x, y, w, b)\n",
    "        w = w - alpha * dj_dw\n",
    "        b = b - alpha * dj_db\n",
    "    print(f\"iteration #{iterations}, w = {w}, b = {b}, cost = {cost(x, y, w, b)}, gradient = {gradient(x, y, w, b)}\")\n",
    "    return w, b"
   ],
   "metadata": {
    "collapsed": false,
    "ExecuteTime": {
     "end_time": "2023-12-24T00:51:20.270702700Z",
     "start_time": "2023-12-24T00:51:20.269703900Z"
    }
   },
   "id": "ba3255630d147aeb"
  },
  {
   "cell_type": "code",
   "execution_count": 8,
   "outputs": [
    {
     "name": "stdout",
     "output_type": "stream",
     "text": [
      "iteration #0, w = [0. 0. 0. 0.], b = 0, cost = 49518.0, gradient = (array([-4.82669333e+05, -1.11733333e+03, -3.67333333e+02, -1.20700000e+04]), -290.0)\n",
      "iteration #100, w = [ 0.20234987  0.00079467 -0.0009851  -0.00212511], b = -0.00011745590317761642, cost = 696.0010595124639, gradient = (array([ -3.66336797,  -6.58618852,  22.95500278, 144.50254154]), 4.80743119854597)\n",
      "iteration #200, w = [ 0.20253264  0.00112386 -0.00213203 -0.00933426], b = -0.00035726544814005523, cost = 694.9313476914755, gradient = (array([ -3.64702044,  -6.58156143,  22.92193901, 143.85777387]), 4.784740510615639)\n",
      "iteration #300, w = [ 0.20271459  0.00145282 -0.00327731 -0.01651125], b = -0.0005959429526822014, cost = 693.8709864577189, gradient = (array([ -3.63074545,  -6.57695457,  22.88902111, 143.21586698]), 4.762150514030765)\n",
      "iteration #400, w = [ 0.20289572  0.00178156 -0.00442095 -0.02365622], b = -0.0008334934403059186, cost = 692.8198930237821, gradient = (array([ -3.61454267,  -6.57236787,  22.85624846, 142.57680818]), 4.739660762038454)\n",
      "iteration #500, w = [ 0.20307605  0.00211006 -0.00556296 -0.0307693 ], b = -0.0010699219122245272, cost = 691.7779853352557, gradient = (array([ -3.59841177,  -6.56780123,  22.8236204 , 141.94058484]), 4.717270809868286)\n",
      "iteration #600, w = [ 0.20325557  0.00243834 -0.00670333 -0.03785064], b = -0.0013052333474616938, cost = 690.7451820642364, gradient = (array([ -3.58235245,  -6.56325455,  22.79113629, 141.30718436]), 4.694980214722865)\n",
      "iteration #700, w = [ 0.20343429  0.00276639 -0.00784209 -0.04490038], b = -0.001539432702949885, cost = 689.7214026029072, gradient = (array([ -3.56636438,  -6.55872776,  22.75879549, 140.67659423]), 4.6727885357696834)\n",
      "iteration #800, w = [ 0.20361222  0.00309422 -0.00897923 -0.05191866], b = -0.0017725249136283801, cost = 688.7065670571469, gradient = (array([ -3.55044725,  -6.55422076,  22.72659736, 140.04880198]), 4.650695334131967)\n",
      "iteration #900, w = [ 0.20378935  0.00342182 -0.01011477 -0.05890562], b = -0.0020045148925408574, cost = 687.7005962402227, gradient = (array([ -3.53460075,  -6.54973347,  22.69454129, 139.4237952 ]), 4.628700172880296)\n",
      "iteration #1000, w = [ 0.20396569  0.00374919 -0.0112487  -0.0658614 ], b = -0.0022354075309325345, cost = 686.7034116665213, gradient = (array([ -3.51882455,  -6.54526579,  22.66262662, 138.80156152]), 4.60680261702377)\n"
     ]
    }
   ],
   "source": [
    "w, b = gradient_descent(x_train, y_train, np.zeros(4), 0, 5.0e-7, 1000)"
   ],
   "metadata": {
    "collapsed": false,
    "ExecuteTime": {
     "end_time": "2023-12-24T00:51:20.326004200Z",
     "start_time": "2023-12-24T00:51:20.269703900Z"
    }
   },
   "id": "2df0bdaeabc2a133"
  },
  {
   "cell_type": "code",
   "execution_count": 9,
   "outputs": [
    {
     "name": "stdout",
     "output_type": "stream",
     "text": [
      "[426.18530497 286.16747201 171.46763087] [-33.81469503  54.16747201  -6.53236913]\n"
     ]
    }
   ],
   "source": [
    "predictions = model(x_train, w, b)\n",
    "print(predictions, predictions - y_train)"
   ],
   "metadata": {
    "collapsed": false,
    "ExecuteTime": {
     "end_time": "2023-12-24T00:51:20.327004800Z",
     "start_time": "2023-12-24T00:51:20.312474300Z"
    }
   },
   "id": "363144d6904b15cc"
  },
  {
   "cell_type": "code",
   "execution_count": 9,
   "outputs": [],
   "source": [],
   "metadata": {
    "collapsed": false,
    "ExecuteTime": {
     "end_time": "2023-12-24T00:51:20.378320Z",
     "start_time": "2023-12-24T00:51:20.315984400Z"
    }
   },
   "id": "421389fedbd22091"
  }
 ],
 "metadata": {
  "kernelspec": {
   "display_name": "Python 3",
   "language": "python",
   "name": "python3"
  },
  "language_info": {
   "codemirror_mode": {
    "name": "ipython",
    "version": 2
   },
   "file_extension": ".py",
   "mimetype": "text/x-python",
   "name": "python",
   "nbconvert_exporter": "python",
   "pygments_lexer": "ipython2",
   "version": "2.7.6"
  }
 },
 "nbformat": 4,
 "nbformat_minor": 5
}
